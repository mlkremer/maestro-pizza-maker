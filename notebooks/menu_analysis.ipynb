{
 "cells": [
  {
   "cell_type": "code",
   "execution_count": 1,
   "metadata": {
    "scrolled": false
   },
   "outputs": [],
   "source": [
    "import sys\n",
    "sys.path.append(\"C:\\\\Users\\\\DrMarcelKremer\\\\maestro-pizza-maker\")"
   ]
  },
  {
   "cell_type": "code",
   "execution_count": 35,
   "metadata": {},
   "outputs": [],
   "source": [
    "from maestro_pizza_maker.pizza_menu import PizzaMenu\n",
    "from maestro_pizza_maker.pizza import Pizza\n",
    "from maestro_pizza_maker.ingredients import PizzaIngredients\n",
    "from maestro_pizza_maker.pizza_sensitivities import (\n",
    "    menu_sensitivity_protein,\n",
    "    menu_sensitivity_carbs,\n",
    "    menu_sensitivity_fat,\n",
    ")\n",
    "from maestro_pizza_maker.taste_at_risk import (\n",
    "    taste_at_risk_pizza,\n",
    "    taste_at_risk_menu,\n",
    "    conditional_taste_at_risk_pizza,\n",
    "    conditional_taste_at_risk_menu,\n",
    ")"
   ]
  },
  {
   "cell_type": "code",
   "execution_count": 104,
   "metadata": {},
   "outputs": [],
   "source": [
    "%matplotlib inline\n",
    "import numpy as np\n",
    "import pandas as pd\n",
    "import matplotlib.pyplot as plt\n",
    "\n",
    "mpl_parameters = {\"font.size\": 16, \"axes.titlesize\": \"medium\"}\n",
    "plt.rcParams.update(mpl_parameters)"
   ]
  },
  {
   "cell_type": "code",
   "execution_count": 4,
   "metadata": {},
   "outputs": [],
   "source": [
    "# consider following menu\n",
    "pizza_menu = PizzaMenu(\n",
    "    pizzas=[\n",
    "        Pizza(\n",
    "            sauce=PizzaIngredients.CREAM_SAUCE,\n",
    "            dough=PizzaIngredients.CLASSIC_DOUGH,\n",
    "            cheese=[PizzaIngredients.MOZZARELA],\n",
    "            fruits=[PizzaIngredients.PINEAPPLE],\n",
    "            meat=[PizzaIngredients.BACON, PizzaIngredients.HAM],\n",
    "            vegetables=[PizzaIngredients.ONIONS],\n",
    "        ),\n",
    "        Pizza(\n",
    "            sauce=PizzaIngredients.TOMATO_SAUCE,\n",
    "            dough=PizzaIngredients.THIN_DOUGH,\n",
    "            cheese=[PizzaIngredients.CHEDDAR],\n",
    "            fruits=[PizzaIngredients.APPLE],\n",
    "            meat=[PizzaIngredients.SAUSAGE],\n",
    "            vegetables=[PizzaIngredients.MUSHROOMS, PizzaIngredients.PEPPER],\n",
    "        ),\n",
    "        Pizza(\n",
    "            sauce=PizzaIngredients.CREAM_SAUCE,\n",
    "            dough=PizzaIngredients.WHOLEMEAL_DOUGH,\n",
    "            cheese=[PizzaIngredients.MOZZARELA, PizzaIngredients.CHEDDAR],\n",
    "            fruits=[PizzaIngredients.PINEAPPLE, PizzaIngredients.APPLE],\n",
    "            meat=[\n",
    "                PizzaIngredients.BACON,\n",
    "                PizzaIngredients.HAM,\n",
    "                PizzaIngredients.SAUSAGE,\n",
    "            ],\n",
    "            vegetables=[\n",
    "                PizzaIngredients.MUSHROOMS,\n",
    "                PizzaIngredients.ONIONS,\n",
    "                PizzaIngredients.PEPPER,\n",
    "            ],\n",
    "        ),\n",
    "        Pizza(\n",
    "            sauce=PizzaIngredients.TOMATO_SAUCE,\n",
    "            dough=PizzaIngredients.CLASSIC_DOUGH,\n",
    "            cheese=[PizzaIngredients.MOZZARELA],\n",
    "            fruits=[PizzaIngredients.PINEAPPLE],\n",
    "            meat=[PizzaIngredients.BACON, PizzaIngredients.HAM],\n",
    "            vegetables=[PizzaIngredients.ONIONS],\n",
    "        ),\n",
    "        Pizza(\n",
    "            sauce=PizzaIngredients.CREAM_SAUCE,\n",
    "            dough=PizzaIngredients.THIN_DOUGH,\n",
    "            cheese=[PizzaIngredients.CHEDDAR],\n",
    "            fruits=[PizzaIngredients.APPLE],\n",
    "            meat=[PizzaIngredients.SAUSAGE],\n",
    "            vegetables=[PizzaIngredients.MUSHROOMS, PizzaIngredients.PEPPER],\n",
    "        ),\n",
    "        Pizza(\n",
    "            sauce=PizzaIngredients.TOMATO_SAUCE,\n",
    "            dough=PizzaIngredients.WHOLEMEAL_DOUGH,\n",
    "            cheese=[PizzaIngredients.MOZZARELA, PizzaIngredients.CHEDDAR],\n",
    "            fruits=[PizzaIngredients.PINEAPPLE, PizzaIngredients.APPLE],\n",
    "            meat=[\n",
    "                PizzaIngredients.BACON,\n",
    "                PizzaIngredients.HAM,\n",
    "                PizzaIngredients.SAUSAGE,\n",
    "            ],\n",
    "            vegetables=[\n",
    "                PizzaIngredients.MUSHROOMS,\n",
    "                PizzaIngredients.ONIONS,\n",
    "                PizzaIngredients.PEPPER,\n",
    "            ],\n",
    "        ),\n",
    "        Pizza(\n",
    "            sauce=PizzaIngredients.CREAM_SAUCE,\n",
    "            dough=PizzaIngredients.CLASSIC_DOUGH,\n",
    "            cheese=[PizzaIngredients.MOZZARELA],\n",
    "            fruits=[PizzaIngredients.PINEAPPLE],\n",
    "            meat=[PizzaIngredients.BACON, PizzaIngredients.HAM],\n",
    "            vegetables=[PizzaIngredients.ONIONS],\n",
    "        ),\n",
    "        Pizza(\n",
    "            sauce=PizzaIngredients.TOMATO_SAUCE,\n",
    "            dough=PizzaIngredients.THIN_DOUGH,\n",
    "            cheese=[PizzaIngredients.CHEDDAR],\n",
    "            fruits=[PizzaIngredients.APPLE],\n",
    "            meat=[PizzaIngredients.SAUSAGE],\n",
    "            vegetables=[PizzaIngredients.MUSHROOMS, PizzaIngredients.PEPPER],\n",
    "        ),\n",
    "        Pizza(\n",
    "            sauce=PizzaIngredients.CREAM_SAUCE,\n",
    "            dough=PizzaIngredients.WHOLEMEAL_DOUGH,\n",
    "            cheese=[PizzaIngredients.MOZZARELA, PizzaIngredients.CHEDDAR],\n",
    "            fruits=[PizzaIngredients.PINEAPPLE, PizzaIngredients.APPLE],\n",
    "            meat=[\n",
    "                PizzaIngredients.BACON,\n",
    "                PizzaIngredients.HAM,\n",
    "                PizzaIngredients.SAUSAGE,\n",
    "            ],\n",
    "            vegetables=[\n",
    "                PizzaIngredients.MUSHROOMS,\n",
    "                PizzaIngredients.ONIONS,\n",
    "                PizzaIngredients.PEPPER,\n",
    "            ],\n",
    "        ),\n",
    "        Pizza(\n",
    "            sauce=PizzaIngredients.TOMATO_SAUCE,\n",
    "            dough=PizzaIngredients.CLASSIC_DOUGH,\n",
    "            cheese=[PizzaIngredients.MOZZARELA],\n",
    "            fruits=[PizzaIngredients.PINEAPPLE],\n",
    "            meat=[PizzaIngredients.BACON, PizzaIngredients.HAM],\n",
    "            vegetables=[PizzaIngredients.ONIONS],\n",
    "        ),\n",
    "    ]\n",
    ")\n"
   ]
  },
  {
   "cell_type": "code",
   "execution_count": 5,
   "metadata": {
    "scrolled": true
   },
   "outputs": [],
   "source": [
    "# create a dataframe with the menu using the to_dataframe method you have implemented in the PizzaMenu class\n",
    "# and display it"
   ]
  },
  {
   "cell_type": "code",
   "execution_count": 99,
   "metadata": {},
   "outputs": [
    {
     "data": {
      "text/html": [
       "<div>\n",
       "<style scoped>\n",
       "    .dataframe tbody tr th:only-of-type {\n",
       "        vertical-align: middle;\n",
       "    }\n",
       "\n",
       "    .dataframe tbody tr th {\n",
       "        vertical-align: top;\n",
       "    }\n",
       "\n",
       "    .dataframe thead th {\n",
       "        text-align: right;\n",
       "    }\n",
       "</style>\n",
       "<table border=\"1\" class=\"dataframe\">\n",
       "  <thead>\n",
       "    <tr style=\"text-align: right;\">\n",
       "      <th></th>\n",
       "      <th>name</th>\n",
       "      <th>price</th>\n",
       "      <th>protein</th>\n",
       "      <th>average_fat</th>\n",
       "      <th>carbohydrates</th>\n",
       "      <th>calories</th>\n",
       "      <th>ingredients</th>\n",
       "    </tr>\n",
       "  </thead>\n",
       "  <tbody>\n",
       "    <tr>\n",
       "      <th>1</th>\n",
       "      <td>THIN DOUGH_TOMATO SAUCE_CHEDDAR_APPLE_SAUSAGE_...</td>\n",
       "      <td>6.5</td>\n",
       "      <td>45.5</td>\n",
       "      <td>28.690186</td>\n",
       "      <td>28.0</td>\n",
       "      <td>1070.0</td>\n",
       "      <td>[THIN DOUGH, TOMATO SAUCE, CHEDDAR, APPLE, SAU...</td>\n",
       "    </tr>\n",
       "    <tr>\n",
       "      <th>7</th>\n",
       "      <td>THIN DOUGH_TOMATO SAUCE_CHEDDAR_APPLE_SAUSAGE_...</td>\n",
       "      <td>6.5</td>\n",
       "      <td>45.5</td>\n",
       "      <td>28.690186</td>\n",
       "      <td>28.0</td>\n",
       "      <td>1070.0</td>\n",
       "      <td>[THIN DOUGH, TOMATO SAUCE, CHEDDAR, APPLE, SAU...</td>\n",
       "    </tr>\n",
       "    <tr>\n",
       "      <th>4</th>\n",
       "      <td>THIN DOUGH_CREAM SAUCE_CHEDDAR_APPLE_SAUSAGE_M...</td>\n",
       "      <td>6.6</td>\n",
       "      <td>45.6</td>\n",
       "      <td>28.278666</td>\n",
       "      <td>29.0</td>\n",
       "      <td>1080.0</td>\n",
       "      <td>[THIN DOUGH, CREAM SAUCE, CHEDDAR, APPLE, SAUS...</td>\n",
       "    </tr>\n",
       "    <tr>\n",
       "      <th>3</th>\n",
       "      <td>CLASSIC DOUGH_TOMATO SAUCE_MOZZRELA_PINEAPPLE_...</td>\n",
       "      <td>7.5</td>\n",
       "      <td>60.5</td>\n",
       "      <td>30.203236</td>\n",
       "      <td>23.0</td>\n",
       "      <td>1820.0</td>\n",
       "      <td>[CLASSIC DOUGH, TOMATO SAUCE, MOZZRELA, PINEAP...</td>\n",
       "    </tr>\n",
       "    <tr>\n",
       "      <th>9</th>\n",
       "      <td>CLASSIC DOUGH_TOMATO SAUCE_MOZZRELA_PINEAPPLE_...</td>\n",
       "      <td>7.5</td>\n",
       "      <td>60.5</td>\n",
       "      <td>30.203236</td>\n",
       "      <td>23.0</td>\n",
       "      <td>1820.0</td>\n",
       "      <td>[CLASSIC DOUGH, TOMATO SAUCE, MOZZRELA, PINEAP...</td>\n",
       "    </tr>\n",
       "    <tr>\n",
       "      <th>0</th>\n",
       "      <td>CLASSIC DOUGH_CREAM SAUCE_MOZZRELA_PINEAPPLE_B...</td>\n",
       "      <td>7.6</td>\n",
       "      <td>60.6</td>\n",
       "      <td>29.791716</td>\n",
       "      <td>24.0</td>\n",
       "      <td>1830.0</td>\n",
       "      <td>[CLASSIC DOUGH, CREAM SAUCE, MOZZRELA, PINEAPP...</td>\n",
       "    </tr>\n",
       "    <tr>\n",
       "      <th>6</th>\n",
       "      <td>CLASSIC DOUGH_CREAM SAUCE_MOZZRELA_PINEAPPLE_B...</td>\n",
       "      <td>7.6</td>\n",
       "      <td>60.6</td>\n",
       "      <td>29.791716</td>\n",
       "      <td>24.0</td>\n",
       "      <td>1830.0</td>\n",
       "      <td>[CLASSIC DOUGH, CREAM SAUCE, MOZZRELA, PINEAPP...</td>\n",
       "    </tr>\n",
       "    <tr>\n",
       "      <th>5</th>\n",
       "      <td>WHOLEMEAL DOUGH_TOMATO SAUCE_MOZZRELA_CHEDDAR_...</td>\n",
       "      <td>12.5</td>\n",
       "      <td>95.5</td>\n",
       "      <td>29.446079</td>\n",
       "      <td>38.0</td>\n",
       "      <td>2770.0</td>\n",
       "      <td>[WHOLEMEAL DOUGH, TOMATO SAUCE, MOZZRELA, CHED...</td>\n",
       "    </tr>\n",
       "    <tr>\n",
       "      <th>2</th>\n",
       "      <td>WHOLEMEAL DOUGH_CREAM SAUCE_MOZZRELA_CHEDDAR_P...</td>\n",
       "      <td>12.6</td>\n",
       "      <td>95.6</td>\n",
       "      <td>29.206026</td>\n",
       "      <td>39.0</td>\n",
       "      <td>2780.0</td>\n",
       "      <td>[WHOLEMEAL DOUGH, CREAM SAUCE, MOZZRELA, CHEDD...</td>\n",
       "    </tr>\n",
       "    <tr>\n",
       "      <th>8</th>\n",
       "      <td>WHOLEMEAL DOUGH_CREAM SAUCE_MOZZRELA_CHEDDAR_P...</td>\n",
       "      <td>12.6</td>\n",
       "      <td>95.6</td>\n",
       "      <td>29.206026</td>\n",
       "      <td>39.0</td>\n",
       "      <td>2780.0</td>\n",
       "      <td>[WHOLEMEAL DOUGH, CREAM SAUCE, MOZZRELA, CHEDD...</td>\n",
       "    </tr>\n",
       "  </tbody>\n",
       "</table>\n",
       "</div>"
      ],
      "text/plain": [
       "                                                name  price  protein  \\\n",
       "1  THIN DOUGH_TOMATO SAUCE_CHEDDAR_APPLE_SAUSAGE_...    6.5     45.5   \n",
       "7  THIN DOUGH_TOMATO SAUCE_CHEDDAR_APPLE_SAUSAGE_...    6.5     45.5   \n",
       "4  THIN DOUGH_CREAM SAUCE_CHEDDAR_APPLE_SAUSAGE_M...    6.6     45.6   \n",
       "3  CLASSIC DOUGH_TOMATO SAUCE_MOZZRELA_PINEAPPLE_...    7.5     60.5   \n",
       "9  CLASSIC DOUGH_TOMATO SAUCE_MOZZRELA_PINEAPPLE_...    7.5     60.5   \n",
       "0  CLASSIC DOUGH_CREAM SAUCE_MOZZRELA_PINEAPPLE_B...    7.6     60.6   \n",
       "6  CLASSIC DOUGH_CREAM SAUCE_MOZZRELA_PINEAPPLE_B...    7.6     60.6   \n",
       "5  WHOLEMEAL DOUGH_TOMATO SAUCE_MOZZRELA_CHEDDAR_...   12.5     95.5   \n",
       "2  WHOLEMEAL DOUGH_CREAM SAUCE_MOZZRELA_CHEDDAR_P...   12.6     95.6   \n",
       "8  WHOLEMEAL DOUGH_CREAM SAUCE_MOZZRELA_CHEDDAR_P...   12.6     95.6   \n",
       "\n",
       "   average_fat  carbohydrates  calories  \\\n",
       "1    28.690186           28.0    1070.0   \n",
       "7    28.690186           28.0    1070.0   \n",
       "4    28.278666           29.0    1080.0   \n",
       "3    30.203236           23.0    1820.0   \n",
       "9    30.203236           23.0    1820.0   \n",
       "0    29.791716           24.0    1830.0   \n",
       "6    29.791716           24.0    1830.0   \n",
       "5    29.446079           38.0    2770.0   \n",
       "2    29.206026           39.0    2780.0   \n",
       "8    29.206026           39.0    2780.0   \n",
       "\n",
       "                                         ingredients  \n",
       "1  [THIN DOUGH, TOMATO SAUCE, CHEDDAR, APPLE, SAU...  \n",
       "7  [THIN DOUGH, TOMATO SAUCE, CHEDDAR, APPLE, SAU...  \n",
       "4  [THIN DOUGH, CREAM SAUCE, CHEDDAR, APPLE, SAUS...  \n",
       "3  [CLASSIC DOUGH, TOMATO SAUCE, MOZZRELA, PINEAP...  \n",
       "9  [CLASSIC DOUGH, TOMATO SAUCE, MOZZRELA, PINEAP...  \n",
       "0  [CLASSIC DOUGH, CREAM SAUCE, MOZZRELA, PINEAPP...  \n",
       "6  [CLASSIC DOUGH, CREAM SAUCE, MOZZRELA, PINEAPP...  \n",
       "5  [WHOLEMEAL DOUGH, TOMATO SAUCE, MOZZRELA, CHED...  \n",
       "2  [WHOLEMEAL DOUGH, CREAM SAUCE, MOZZRELA, CHEDD...  \n",
       "8  [WHOLEMEAL DOUGH, CREAM SAUCE, MOZZRELA, CHEDD...  "
      ]
     },
     "metadata": {},
     "output_type": "display_data"
    }
   ],
   "source": [
    "df = pizza_menu.to_dataframe(sort_by=\"calories\", descendent=False)\n",
    "display(df)"
   ]
  },
  {
   "cell_type": "code",
   "execution_count": 4,
   "metadata": {},
   "outputs": [],
   "source": [
    "# compute basic descriptive statistics for the menu.\n",
    "# pay a special attention to the price column, as it is the most important one\n",
    "\n",
    "# Following steps are optional, but recommended:\n",
    "# 1. Create a boxplot for the price column\n",
    "# 2. Create a histogram for the price column\n",
    "# 3. Create a scatter plot for the price column and any other column of your choice\n"
   ]
  },
  {
   "cell_type": "code",
   "execution_count": 101,
   "metadata": {},
   "outputs": [
    {
     "data": {
      "text/html": [
       "<div>\n",
       "<style scoped>\n",
       "    .dataframe tbody tr th:only-of-type {\n",
       "        vertical-align: middle;\n",
       "    }\n",
       "\n",
       "    .dataframe tbody tr th {\n",
       "        vertical-align: top;\n",
       "    }\n",
       "\n",
       "    .dataframe thead th {\n",
       "        text-align: right;\n",
       "    }\n",
       "</style>\n",
       "<table border=\"1\" class=\"dataframe\">\n",
       "  <thead>\n",
       "    <tr style=\"text-align: right;\">\n",
       "      <th></th>\n",
       "      <th>price</th>\n",
       "      <th>protein</th>\n",
       "      <th>average_fat</th>\n",
       "      <th>carbohydrates</th>\n",
       "      <th>calories</th>\n",
       "    </tr>\n",
       "  </thead>\n",
       "  <tbody>\n",
       "    <tr>\n",
       "      <th>count</th>\n",
       "      <td>10.00000</td>\n",
       "      <td>10.000000</td>\n",
       "      <td>10.000000</td>\n",
       "      <td>10.000000</td>\n",
       "      <td>10.000000</td>\n",
       "    </tr>\n",
       "    <tr>\n",
       "      <th>mean</th>\n",
       "      <td>8.75000</td>\n",
       "      <td>66.550000</td>\n",
       "      <td>29.350707</td>\n",
       "      <td>29.500000</td>\n",
       "      <td>1885.000000</td>\n",
       "    </tr>\n",
       "    <tr>\n",
       "      <th>std</th>\n",
       "      <td>2.67135</td>\n",
       "      <td>21.068737</td>\n",
       "      <td>0.659579</td>\n",
       "      <td>6.687468</td>\n",
       "      <td>697.316284</td>\n",
       "    </tr>\n",
       "    <tr>\n",
       "      <th>min</th>\n",
       "      <td>6.50000</td>\n",
       "      <td>45.500000</td>\n",
       "      <td>28.278666</td>\n",
       "      <td>23.000000</td>\n",
       "      <td>1070.000000</td>\n",
       "    </tr>\n",
       "    <tr>\n",
       "      <th>25%</th>\n",
       "      <td>6.82500</td>\n",
       "      <td>49.325000</td>\n",
       "      <td>28.819146</td>\n",
       "      <td>24.000000</td>\n",
       "      <td>1265.000000</td>\n",
       "    </tr>\n",
       "    <tr>\n",
       "      <th>50%</th>\n",
       "      <td>7.55000</td>\n",
       "      <td>60.550000</td>\n",
       "      <td>29.326052</td>\n",
       "      <td>28.000000</td>\n",
       "      <td>1825.000000</td>\n",
       "    </tr>\n",
       "    <tr>\n",
       "      <th>75%</th>\n",
       "      <td>11.27500</td>\n",
       "      <td>86.775000</td>\n",
       "      <td>29.791716</td>\n",
       "      <td>35.750000</td>\n",
       "      <td>2535.000000</td>\n",
       "    </tr>\n",
       "    <tr>\n",
       "      <th>max</th>\n",
       "      <td>12.60000</td>\n",
       "      <td>95.600000</td>\n",
       "      <td>30.203236</td>\n",
       "      <td>39.000000</td>\n",
       "      <td>2780.000000</td>\n",
       "    </tr>\n",
       "  </tbody>\n",
       "</table>\n",
       "</div>"
      ],
      "text/plain": [
       "          price    protein  average_fat  carbohydrates     calories\n",
       "count  10.00000  10.000000    10.000000      10.000000    10.000000\n",
       "mean    8.75000  66.550000    29.350707      29.500000  1885.000000\n",
       "std     2.67135  21.068737     0.659579       6.687468   697.316284\n",
       "min     6.50000  45.500000    28.278666      23.000000  1070.000000\n",
       "25%     6.82500  49.325000    28.819146      24.000000  1265.000000\n",
       "50%     7.55000  60.550000    29.326052      28.000000  1825.000000\n",
       "75%    11.27500  86.775000    29.791716      35.750000  2535.000000\n",
       "max    12.60000  95.600000    30.203236      39.000000  2780.000000"
      ]
     },
     "execution_count": 101,
     "metadata": {},
     "output_type": "execute_result"
    }
   ],
   "source": [
    "df.describe()"
   ]
  },
  {
   "cell_type": "code",
   "execution_count": 102,
   "metadata": {},
   "outputs": [
    {
     "data": {
      "text/plain": [
       "count    10.00000\n",
       "mean      8.75000\n",
       "std       2.67135\n",
       "min       6.50000\n",
       "25%       6.82500\n",
       "50%       7.55000\n",
       "75%      11.27500\n",
       "max      12.60000\n",
       "Name: price, dtype: float64"
      ]
     },
     "execution_count": 102,
     "metadata": {},
     "output_type": "execute_result"
    }
   ],
   "source": [
    "df[\"price\"].describe()"
   ]
  },
  {
   "cell_type": "code",
   "execution_count": 103,
   "metadata": {},
   "outputs": [],
   "source": [
    "plt.boxplot(df[\"price\"])\n",
    "plt.show()"
   ]
  },
  {
   "cell_type": "code",
   "execution_count": 105,
   "metadata": {},
   "outputs": [
    {
     "data": {
      "image/png": "[encoded data removed]",
      "text/plain": [
       "<Figure size 640x480 with 1 Axes>"
      ]
     },
     "metadata": {},
     "output_type": "display_data"
    }
   ],
   "source": [
    "plt.hist(df[\"price\"], color=\"b\")\n",
    "plt.xlabel(\"Price\")\n",
    "plt.ylabel(\"Absolute frequency\")\n",
    "plt.show()"
   ]
  },
  {
   "cell_type": "code",
   "execution_count": 123,
   "metadata": {},
   "outputs": [
    {
     "data": {
      "image/png": "[encoded data removed]",
      "text/plain": [
       "<Figure size 640x480 with 1 Axes>"
      ]
     },
     "metadata": {},
     "output_type": "display_data"
    }
   ],
   "source": [
    "x = \"price\"\n",
    "y = \"protein\"\n",
    "plt.scatter(df[x], df[y], c=\"b\")\n",
    "# plt.plot(df[x], df[y], \"bo\")\n",
    "plt.xlabel(x.title())\n",
    "plt.ylabel(y.title())\n",
    "plt.show()"
   ]
  },
  {
   "cell_type": "code",
   "execution_count": 5,
   "metadata": {},
   "outputs": [],
   "source": [
    "# Try to answer following question:\n",
    "# 1. How much will price change on average if we increase the amount of protein in the pizza by 1 unit?\n",
    "# 2. How much will price change on average if we increase the amount of average_fat in the pizza by 1 unit?\n",
    "# 3. How much will price change on average if we increase the amount of carbohydrates in the pizza by 1 unit?\n",
    "\n",
    "# Hint: use functions that you have implemented in the pizza_sensitivities.py\n"
   ]
  },
  {
   "cell_type": "code",
   "execution_count": 127,
   "metadata": {},
   "outputs": [
    {
     "name": "stdout",
     "output_type": "stream",
     "text": [
      "Answers:\n",
      "1. If we increase the amount of protein in the pizza by 1 unit, the price will increase by 0.12536216919793994 units on average.\n",
      "2. If we increase the amount of average_fat in the pizza by 1 unit, the price will increase by 0.3512257480075705 units on average.\n",
      "3. If we increase the amount of carbohydrates in the pizza by 1 unit, the price will increase by 0.35217391304347834 units on average.\n"
     ]
    }
   ],
   "source": [
    "print(\"Answers:\")\n",
    "print(\"1. If we increase the amount of protein in the pizza by 1 unit, the price will increase by\", \n",
    "      menu_sensitivity_protein(pizza_menu), \"units on average.\")\n",
    "print(\"2. If we increase the amount of average_fat in the pizza by 1 unit, the price will increase by\", \n",
    "      menu_sensitivity_fat(pizza_menu), \"units on average.\")\n",
    "print(\"3. If we increase the amount of carbohydrates in the pizza by 1 unit, the price will increase by\", \n",
    "      menu_sensitivity_carbs(pizza_menu), \"units on average.\")"
   ]
  },
  {
   "cell_type": "code",
   "execution_count": 6,
   "metadata": {},
   "outputs": [],
   "source": [
    "# Compute Taste at Risk (TaR) for each pizza in the menu and for the whole menu and briefly comment on the results\n",
    "# Use quantile = 0.1\n",
    "# Answer following question:\n",
    "# 1. Does the sum of TaR for each pizza in the menu equal to the TaR of the whole menu and why?\n",
    "\n",
    "# Hint: use functions that you have implemented in the taste_at_risk.py\n"
   ]
  },
  {
   "cell_type": "code",
   "execution_count": 133,
   "metadata": {
    "scrolled": true
   },
   "outputs": [
    {
     "name": "stdout",
     "output_type": "stream",
     "text": [
      "TaR of each pizza:\n",
      " [31.77635394847147, 23.04816382865777, 48.20777988839925, 32.49682353171359, 22.32899182227614, 48.84857264083904, 31.77635394847147, 23.04816382865777, 48.20777988839925, 32.49682353171359]\n",
      "\n",
      "TaR of the whole menu: 342.56144263672076\n"
     ]
    }
   ],
   "source": [
    "quantile = 0.1\n",
    "print(\"TaR of each pizza:\\n\", [taste_at_risk_pizza(pizza=pizza, quantile=quantile) for pizza in pizza_menu.pizzas])\n",
    "print(\"\")\n",
    "print(\"TaR of the whole menu:\", taste_at_risk_menu(menu=pizza_menu, quantile=quantile))"
   ]
  },
  {
   "cell_type": "code",
   "execution_count": 132,
   "metadata": {},
   "outputs": [
    {
     "name": "stdout",
     "output_type": "stream",
     "text": [
      "Sum of TaR of each pizza:  342.23580685759936\n"
     ]
    }
   ],
   "source": [
    "print(\"Sum of TaR of each pizza: \", \n",
    "      sum(taste_at_risk_pizza(pizza=pizza, quantile=quantile) for pizza in pizza_menu.pizzas))"
   ]
  },
  {
   "cell_type": "code",
   "execution_count": 7,
   "metadata": {},
   "outputs": [],
   "source": [
    "# Compute Conditional Taste at Risk (CTaR) for each pizza in the menu and for the whole menu and briefly comment on the results\n",
    "\n",
    "# Hint: use functions that you have implemented in the taste_at_risk.py\n"
   ]
  },
  {
   "cell_type": "code",
   "execution_count": 134,
   "metadata": {},
   "outputs": [
    {
     "name": "stdout",
     "output_type": "stream",
     "text": [
      "CTaR of each pizza:\n",
      " [30.489425321241466, 22.0188388800049, 46.14025762489395, 31.280324411901933, 21.305697222740697, 46.89349039601546, 30.489425321241466, 22.0188388800049, 46.14025762489395, 31.280324411901933]\n",
      "\n",
      "CTaR of the whole menu: 328.56118499766603\n"
     ]
    }
   ],
   "source": [
    "print(\"CTaR of each pizza:\\n\", \n",
    "      [conditional_taste_at_risk_pizza(pizza=pizza, quantile=quantile) for pizza in pizza_menu.pizzas])\n",
    "print(\"\")\n",
    "print(\"CTaR of the whole menu:\", conditional_taste_at_risk_menu(menu=pizza_menu, quantile=quantile))"
   ]
  },
  {
   "cell_type": "code",
   "execution_count": 135,
   "metadata": {},
   "outputs": [
    {
     "name": "stdout",
     "output_type": "stream",
     "text": [
      "Sum of CTaR of each pizza:  328.0568800948406\n"
     ]
    }
   ],
   "source": [
    "print(\"Sum of CTaR of each pizza: \", \n",
    "      sum(conditional_taste_at_risk_pizza(pizza=pizza, quantile=quantile) for pizza in pizza_menu.pizzas))"
   ]
  },
  {
   "cell_type": "code",
   "execution_count": 8,
   "metadata": {},
   "outputs": [],
   "source": [
    "# Define constraints_values and constraints_ingredients and find the optimal pizza using the func maximize_taste_penalty_price, that you have implemented in the pizza_optimizer.py\n",
    "# Use lambda_param = 0.5\n",
    "\n",
    "# Add this pizza to the menu using the add_pizza method of the PizzaMenu class\n"
   ]
  },
  {
   "cell_type": "code",
   "execution_count": 9,
   "metadata": {},
   "outputs": [],
   "source": [
    "# Compute the new TaR and CTaR for the whole new menu with added pizza\n"
   ]
  },
  {
   "cell_type": "code",
   "execution_count": 10,
   "metadata": {},
   "outputs": [],
   "source": [
    "# Compare old and new TaR and CTaR and briefly comment on the results."
   ]
  }
 ],
 "metadata": {
  "kernelspec": {
   "display_name": "Python 3 (ipykernel)",
   "language": "python",
   "name": "python3"
  },
  "language_info": {
   "codemirror_mode": {
    "name": "ipython",
    "version": 3
   },
   "file_extension": ".py",
   "mimetype": "text/x-python",
   "name": "python",
   "nbconvert_exporter": "python",
   "pygments_lexer": "ipython3",
   "version": "3.11.3"
  }
 },
 "nbformat": 4,
 "nbformat_minor": 2
}
